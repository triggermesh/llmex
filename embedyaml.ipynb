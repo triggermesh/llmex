{
 "cells": [
  {
   "cell_type": "markdown",
   "id": "142f5978",
   "metadata": {},
   "source": [
    "## Finding YAML manifest Samples Using Embeddings\n",
    "\n",
    "We are going to read all the sample manifests in the path, compute their embeddings and then do a search using a natural language query.\n",
    "\n",
    "First we need to find all manifests in the directory and store their paths"
   ]
  },
  {
   "cell_type": "code",
   "execution_count": 12,
   "id": "ce27ea07",
   "metadata": {},
   "outputs": [],
   "source": [
    "import os\n",
    "\n",
    "directory = os.curdir\n",
    "\n",
    "yaml_files = []\n",
    "\n",
    "for dirpath, dirnames, filenames in os.walk(directory):\n",
    "    for filename in filenames:\n",
    "        if filename.endswith('.yaml'):\n",
    "            # print(os.path.join(dirpath, filename))\n",
    "            yaml_files.append(os.path.join(dirpath, filename))"
   ]
  },
  {
   "cell_type": "markdown",
   "id": "76268f53",
   "metadata": {},
   "source": [
    "Let's see how many files we have"
   ]
  },
  {
   "cell_type": "code",
   "execution_count": 2,
   "id": "b803d539",
   "metadata": {},
   "outputs": [
    {
     "name": "stdout",
     "output_type": "stream",
     "text": [
      "142\n"
     ]
    }
   ],
   "source": [
    "print(len(yaml_files))"
   ]
  },
  {
   "cell_type": "markdown",
   "id": "3a6954e9",
   "metadata": {},
   "source": [
    "Now we can read all the manifests and build a list for all of them"
   ]
  },
  {
   "cell_type": "code",
   "execution_count": 3,
   "id": "124c8d88",
   "metadata": {},
   "outputs": [],
   "source": [
    "all_manifests = []\n",
    "for filepath in yaml_files:\n",
    "    with open(filepath) as f:\n",
    "        lines = f.readlines()\n",
    "        newline = []\n",
    "        for line in lines:\n",
    "            if line.startswith(\"#\"):\n",
    "                continue\n",
    "            else:\n",
    "                newline.append(line.replace(\"\\r\", \"\\n\"))\n",
    "    whole_manifest = \"\".join(newline)\n",
    "    #whole_manifest = open(filepath).read().replace(\"\\r\", \"\\n\")\n",
    "    res = {\"manifest\": whole_manifest, \"filepath\": filepath}\n",
    "    all_manifests.append(res)"
   ]
  },
  {
   "cell_type": "markdown",
   "id": "8416a4bb",
   "metadata": {},
   "source": [
    "Next we use OpenAI to compute the embeddings for all manifests and we store them in a Panda DataFrame. This can take a bit of time."
   ]
  },
  {
   "cell_type": "code",
   "execution_count": 4,
   "id": "22c2a752",
   "metadata": {},
   "outputs": [
    {
     "data": {
      "text/html": [
       "<div>\n",
       "<style scoped>\n",
       "    .dataframe tbody tr th:only-of-type {\n",
       "        vertical-align: middle;\n",
       "    }\n",
       "\n",
       "    .dataframe tbody tr th {\n",
       "        vertical-align: top;\n",
       "    }\n",
       "\n",
       "    .dataframe thead th {\n",
       "        text-align: right;\n",
       "    }\n",
       "</style>\n",
       "<table border=\"1\" class=\"dataframe\">\n",
       "  <thead>\n",
       "    <tr style=\"text-align: right;\">\n",
       "      <th></th>\n",
       "      <th>manifest</th>\n",
       "      <th>filepath</th>\n",
       "      <th>yaml_embedding</th>\n",
       "    </tr>\n",
       "  </thead>\n",
       "  <tbody>\n",
       "    <tr>\n",
       "      <th>0</th>\n",
       "      <td>\\n\\napiVersion: v1\\nkind: Secret\\nmetadata:\\n ...</td>\n",
       "      <td>./targets/googlecloudfirestore/100-secret.yaml</td>\n",
       "      <td>[0.0009237080230377614, -0.005223845597356558,...</td>\n",
       "    </tr>\n",
       "    <tr>\n",
       "      <th>1</th>\n",
       "      <td>\\napiVersion: targets.triggermesh.io/v1alpha1\\...</td>\n",
       "      <td>./targets/googlecloudfirestore/200-target.yaml</td>\n",
       "      <td>[-0.02706410177052021, -0.011596946977078915, ...</td>\n",
       "    </tr>\n",
       "    <tr>\n",
       "      <th>2</th>\n",
       "      <td>\\napiVersion: eventing.knative.dev/v1\\nkind: T...</td>\n",
       "      <td>./targets/googlecloudfirestore/300-trigger.yaml</td>\n",
       "      <td>[-0.02558640018105507, -0.023556580767035484, ...</td>\n",
       "    </tr>\n",
       "    <tr>\n",
       "      <th>3</th>\n",
       "      <td>\\napiVersion: v1\\nkind: Secret\\nmetadata:\\n  n...</td>\n",
       "      <td>./targets/sendgrid/100-secret.yaml</td>\n",
       "      <td>[0.0017921671969816089, -0.021822964772582054,...</td>\n",
       "    </tr>\n",
       "    <tr>\n",
       "      <th>4</th>\n",
       "      <td>\\napiVersion: targets.triggermesh.io/v1alpha1\\...</td>\n",
       "      <td>./targets/sendgrid/200-target.yaml</td>\n",
       "      <td>[-0.014343353919684887, -0.036025792360305786,...</td>\n",
       "    </tr>\n",
       "  </tbody>\n",
       "</table>\n",
       "</div>"
      ],
      "text/plain": [
       "                                            manifest  \\\n",
       "0  \\n\\napiVersion: v1\\nkind: Secret\\nmetadata:\\n ...   \n",
       "1  \\napiVersion: targets.triggermesh.io/v1alpha1\\...   \n",
       "2  \\napiVersion: eventing.knative.dev/v1\\nkind: T...   \n",
       "3  \\napiVersion: v1\\nkind: Secret\\nmetadata:\\n  n...   \n",
       "4  \\napiVersion: targets.triggermesh.io/v1alpha1\\...   \n",
       "\n",
       "                                          filepath  \\\n",
       "0   ./targets/googlecloudfirestore/100-secret.yaml   \n",
       "1   ./targets/googlecloudfirestore/200-target.yaml   \n",
       "2  ./targets/googlecloudfirestore/300-trigger.yaml   \n",
       "3               ./targets/sendgrid/100-secret.yaml   \n",
       "4               ./targets/sendgrid/200-target.yaml   \n",
       "\n",
       "                                      yaml_embedding  \n",
       "0  [0.0009237080230377614, -0.005223845597356558,...  \n",
       "1  [-0.02706410177052021, -0.011596946977078915, ...  \n",
       "2  [-0.02558640018105507, -0.023556580767035484, ...  \n",
       "3  [0.0017921671969816089, -0.021822964772582054,...  \n",
       "4  [-0.014343353919684887, -0.036025792360305786,...  "
      ]
     },
     "execution_count": 4,
     "metadata": {},
     "output_type": "execute_result"
    }
   ],
   "source": [
    "import openai\n",
    "from openai.embeddings_utils import get_embedding\n",
    "import pandas as pd\n",
    "\n",
    "openai.api_key_path = \"/Users/sebgoa/.openaikey\"\n",
    "df = pd.DataFrame(all_manifests)\n",
    "df['yaml_embedding'] = df['manifest'].apply(lambda x: get_embedding(x, engine='text-embedding-ada-002'))\n",
    "df.head()"
   ]
  },
  {
   "cell_type": "markdown",
   "id": "95aa8885",
   "metadata": {},
   "source": [
    "With our embeddings handy we can now do a search and sort the results. You can return only the result with the highest similarity to your query. The query is made via a sentence in natural language."
   ]
  },
  {
   "cell_type": "code",
   "execution_count": 11,
   "id": "93566eef",
   "metadata": {},
   "outputs": [
    {
     "name": "stdout",
     "output_type": "stream",
     "text": [
      "./sources/awskinesissource.yaml  score=0.843\n",
      "\n",
      "\n",
      "apiVersion: sources.triggermesh.io/v1alpha1\n",
      "kind: AWSKinesisSource\n",
      "metadata:\n",
      "  name: sample\n",
      "spec:\n",
      "  arn: arn:aws:kinesis:us-west-2:123456789012:stream/triggermeshtest\n",
      "\n",
      "  auth:\n",
      "    credentials:\n",
      "      accessKeyID:\n",
      "        valueFromSecret:\n",
      "          name: awscreds\n",
      "          key: aws_access_key_id\n",
      "      secretAccessKey:\n",
      "        valueFromSecret:\n",
      "          name: awscreds\n",
      "          key: aws_secret_access_key\n",
      "\n",
      "  sink:\n",
      "    ref:\n",
      "      apiVersion: eventing.knative.dev/v1\n",
      "      kind: Broker\n",
      "      name: default\n",
      "\n",
      "----------------------------------------------------------------------\n"
     ]
    }
   ],
   "source": [
    "from openai.embeddings_utils import cosine_similarity\n",
    "\n",
    "def search_functions(df, code_query, n=3, pprint=True, n_lines=50):\n",
    "    embedding = get_embedding(code_query, engine='text-embedding-ada-002')\n",
    "    df['similarities'] = df.yaml_embedding.apply(lambda x: cosine_similarity(x, embedding))\n",
    "\n",
    "    res = df.sort_values('similarities', ascending=False).head(n)\n",
    "    if pprint:\n",
    "        for r in res.iterrows():\n",
    "            print(r[1].filepath + \"  score=\" + str(round(r[1].similarities, 3)))\n",
    "            print(\"\\n\".join(r[1].manifest.split(\"\\n\")[:n_lines]))\n",
    "            print('-'*70)\n",
    "    return res\n",
    "\n",
    "res = search_functions(df, 'what does a AWS kinesis source looks like', n=1)"
   ]
  },
  {
   "cell_type": "code",
   "execution_count": null,
   "id": "43f8a90e",
   "metadata": {},
   "outputs": [],
   "source": []
  }
 ],
 "metadata": {
  "kernelspec": {
   "display_name": "Python 3 (ipykernel)",
   "language": "python",
   "name": "python3"
  },
  "language_info": {
   "codemirror_mode": {
    "name": "ipython",
    "version": 3
   },
   "file_extension": ".py",
   "mimetype": "text/x-python",
   "name": "python",
   "nbconvert_exporter": "python",
   "pygments_lexer": "ipython3",
   "version": "3.10.10"
  }
 },
 "nbformat": 4,
 "nbformat_minor": 5
}
